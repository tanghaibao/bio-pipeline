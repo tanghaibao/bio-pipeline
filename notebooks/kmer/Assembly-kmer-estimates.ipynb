{
 "cells": [
  {
   "cell_type": "markdown",
   "metadata": {},
   "source": [
    "# Assembly kmer estimates\n",
    "\n",
    "We wish to the following properties of a genome based on the kmer histogram. Formally, we have as our input:\n",
    "\n",
    "- $K_i$, where $i = 1..100001$, as the number of kmers at coverage $i$\n",
    "\n",
    "We want to infer:\n",
    "\n",
    "- $G_i$, where $i = 1..100$, as the number of kmers with copy number of $i$ in the genome sequence\n",
    "\n",
    "This $G_i$ spectrum is interesting since it allows us to estimate\n",
    "\n",
    "- Genome size $g = \\sum_{i=1}^{100}{i * G_i}$"
   ]
  }
 ],
 "metadata": {
  "kernelspec": {
   "display_name": "Python 3",
   "language": "python",
   "name": "python3"
  },
  "language_info": {
   "codemirror_mode": {
    "name": "ipython",
    "version": 3
   },
   "file_extension": ".py",
   "mimetype": "text/x-python",
   "name": "python",
   "nbconvert_exporter": "python",
   "pygments_lexer": "ipython3",
   "version": "3.7.7"
  }
 },
 "nbformat": 4,
 "nbformat_minor": 4
}
