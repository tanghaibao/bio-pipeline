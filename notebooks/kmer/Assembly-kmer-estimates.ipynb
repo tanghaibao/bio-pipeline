{
 "cells": [
  {
   "cell_type": "markdown",
   "metadata": {},
   "source": [
    "# Assembly kmer estimates\n",
    "\n",
    "We wish to the following properties of a genome based on the kmer histogram. Formally, we have as our input:\n",
    "\n",
    "- $K_i$, where $i = 1..100001$, as the number of kmers at coverage $i$\n",
    "\n",
    "We want to infer:\n",
    "\n",
    "- $G_i$, where $i = 1..100$, as the number of kmers with copy number of $i$ in the genome sequence\n",
    "\n",
    "This $G_i$ spectrum is interesting since it allows us to estimate\n",
    "\n",
    "- Genome size $g = \\sum_{i=1}^{100}{i * G_i}$\n",
    "\n",
    "- Ploidy $p$ where $\\sum_{i=1}^{p}{G_i} > 0.95 * \\sum_{i=1}^{100}{G_i}$, i.e. with this ploidy you can explain most of the unique kmers in the genome\n",
    "\n",
    "- Repeat contents $R = \\sum_{i=p}^{100}{i * G_i} / \\sum_{i=1}^{100}{i * G_i}$, ratio of all high copy kmers (larger than ploidy $p$) over all genome kmers\n",
    "\n",
    "- Heterozygosity. Formula TBD.\n",
    "\n",
    "$G_i$ can generate the expected $K_i$ which we can use to match to the observed $K_i$. The objective function can be minimize the K-L divergence.\n",
    "\n",
    "- $D_{KL}(P | Q)$, where $P$ is the observed $K_i$ and $Q$ is the expected $K_i$, which is the amount of information lost when $Q$ is used to approximate $P$."
   ]
  },
  {
   "cell_type": "code",
   "execution_count": 35,
   "metadata": {},
   "outputs": [
    {
     "name": "stderr",
     "output_type": "stream",
     "text": [
      "\u001b[0;33m11:35:26 [pyplot]\u001b[0m\u001b[0;35m Loaded backend module://ipykernel.pylab.backend_inline version unknown.\u001b[0m\n"
     ]
    }
   ],
   "source": [
    "%matplotlib inline\n",
    "import seaborn as sns\n",
    "sns.set_context(\"talk\")\n",
    "import matplotlib.pyplot as plt\n",
    "import logging\n",
    "logging.getLogger(\"matplotlib\").setLevel(logging.WARNING)"
   ]
  },
  {
   "cell_type": "markdown",
   "metadata": {},
   "source": [
    "## Sequencing error and PCR duplicates\n",
    "\n",
    "Assume we have a kmer that has a small error rate $\\epsilon$ to generate an erroneous kmer when duplicating. We simulate 8 rounds of PCR."
   ]
  },
  {
   "cell_type": "code",
   "execution_count": 69,
   "metadata": {},
   "outputs": [],
   "source": [
    "from random import choice, random\n",
    "from jcvi.formats.fasta import rc\n",
    "\n",
    "def generate_kmer(K=21):\n",
    "    s = ''.join([choice('ATCG') for x in range(K)])\n",
    "    return min(s, rc(s))\n",
    "\n",
    "def mutate_kmer(kmer, mu=0.01):\n",
    "    s = ''.join([(choice('ATCG') if random() < mu else k) for k in kmer])\n",
    "    return min(s, rc(s))\n",
    "\n",
    "def evolve(kmer, mu=0.01, start_coverage=1, end_coverage=30):\n",
    "    pool = [kmer] * start_coverage\n",
    "    while len(pool) < end_coverage:\n",
    "        pool += [mutate_kmer(kmer, mu=mu) for kmer in pool]\n",
    "    return pool[:end_coverage]\n",
    "        \n",
    "def summarize(pool):\n",
    "    from collections import Counter\n",
    "    for k, v in Counter(pool).items():\n",
    "        print(k, v)"
   ]
  },
  {
   "cell_type": "code",
   "execution_count": 9,
   "metadata": {},
   "outputs": [
    {
     "name": "stdout",
     "output_type": "stream",
     "text": [
      "CTGCCCTGCTTTTATACAACA\n",
      "CTGCCCTGCTTTTATACAACA\n",
      "CTGCCCTGCTTTTATACAACA\n",
      "CTGCCCTGCTTTTATACAACA\n",
      "CTGCCCTGCTTTTATACAACA\n",
      "CTGCCCTGCTTTTATACAACA => CTGCCCTGCTTTTATCCAACA\n",
      "CTGCCCTGCTTTTATACAACA\n",
      "CTGCCCTGCTTTTATACAACA\n",
      "CTGCCCTGCTTTTATACAACA\n",
      "CTGCCCTGCTTTTATACAACA\n"
     ]
    }
   ],
   "source": [
    "starting_kmer = generate_kmer()\n",
    "for i in range(10):\n",
    "    dup_kmer = mutate_kmer(starting_kmer)\n",
    "    if dup_kmer == starting_kmer:\n",
    "        print(starting_kmer)\n",
    "    else:\n",
    "        print(starting_kmer, \"=>\", dup_kmer)"
   ]
  },
  {
   "cell_type": "code",
   "execution_count": 70,
   "metadata": {},
   "outputs": [
    {
     "name": "stdout",
     "output_type": "stream",
     "text": [
      "CTGCCCTGCTTTTATACAACA 27\n",
      "CTCCCCTGCTTTTATACAACA 2\n",
      "CTACCCTGCTTTTATACAACA 1\n"
     ]
    }
   ],
   "source": [
    "pool = evolve(starting_kmer)\n",
    "summarize(pool)"
   ]
  },
  {
   "cell_type": "markdown",
   "metadata": {},
   "source": [
    "Now we have a mutation model which takes two parameters: \n",
    "\n",
    "- $\\mu$ probability of per-base error when duplicating\n",
    "\n",
    "- $r$ PCR duplication round, this is done with `start_coverage` and `end_coverage`"
   ]
  },
  {
   "cell_type": "code",
   "execution_count": 82,
   "metadata": {},
   "outputs": [],
   "source": [
    "from functools import lru_cache\n",
    "from collections import Counter\n",
    "import sys\n",
    "\n",
    "@lru_cache(maxsize=None)\n",
    "def sequencing_model(K=21, mu1000x=10, rho100X=20, target_coverage=30):\n",
    "    N = 10000\n",
    "    diff = Counter()\n",
    "    same = Counter()\n",
    "    total = 0\n",
    "    for _ in range(N):\n",
    "        if i % 100 == 0: print(\"Sample\", i, file=sys.stderr)\n",
    "        starting_kmer = generate_kmer(K=K)\n",
    "        pool = evolve(starting_kmer, mu=mu1000x/1000, \n",
    "                      start_coverage=target_coverage * rho100X // 100, \n",
    "                      end_coverage=target_coverage)\n",
    "        for pkmer, v in Counter(pool).items():\n",
    "            if pkmer == starting_kmer:\n",
    "                same[v] += 1\n",
    "            else:\n",
    "                diff[v] += 1\n",
    "            total += v\n",
    "    return same, diff, total"
   ]
  },
  {
   "cell_type": "code",
   "execution_count": 85,
   "metadata": {},
   "outputs": [
    {
     "data": {
      "text/plain": [
       "[<matplotlib.lines.Line2D at 0x7fbd2e163190>]"
      ]
     },
     "execution_count": 85,
     "metadata": {},
     "output_type": "execute_result"
    },
    {
     "data": {
      "image/png": "[encoded data removed]",
      "text/plain": [
       "<Figure size 432x288 with 1 Axes>"
      ]
     },
     "metadata": {
      "needs_background": "light"
     },
     "output_type": "display_data"
    }
   ],
   "source": [
    "# rho100X is the diversity of starting material, 1 = 1\n",
    "mm_same, mm_diff, mm_total = sequencing_model(mu1000x=8, rho100X=1, target_coverage=100)\n",
    "\n",
    "x, y = zip(*mm_same.items())\n",
    "z = [_x * _y / mm_total for _x, _y in zip(x, y)]\n",
    "plt.plot(x, z, \".\", color='g')\n",
    "\n",
    "x, y = zip(*mm_diff.items())\n",
    "z = [_x * _y / mm_total for _x, _y in zip(x, y)]\n",
    "plt.plot(x, z, \".\", color='r')"
   ]
  }
 ],
 "metadata": {
  "kernelspec": {
   "display_name": "Python 3",
   "language": "python",
   "name": "python3"
  },
  "language_info": {
   "codemirror_mode": {
    "name": "ipython",
    "version": 3
   },
   "file_extension": ".py",
   "mimetype": "text/x-python",
   "name": "python",
   "nbconvert_exporter": "python",
   "pygments_lexer": "ipython3",
   "version": "3.7.7"
  }
 },
 "nbformat": 4,
 "nbformat_minor": 4
}
